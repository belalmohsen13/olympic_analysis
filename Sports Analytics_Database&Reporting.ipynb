{
 "cells": [
  {
   "cell_type": "code",
   "execution_count": 1,
   "id": "eef1739d-f00d-4e56-9706-512971e64e5f",
   "metadata": {},
   "outputs": [],
   "source": [
    "import pandas as pd \n",
    "import matplotlib.pyplot as plt"
   ]
  },
  {
   "cell_type": "code",
   "execution_count": null,
   "id": "205bd590-3166-4b7d-a52c-bb303afd677f",
   "metadata": {},
   "outputs": [],
   "source": [
    "athletes_df= pd.read_csv('athlete_events.csv')\n",
    "noc_df= pd.read_csv('noc_regions.csv')"
   ]
  },
  {
   "cell_type": "code",
   "execution_count": null,
   "id": "51fa7f53-719b-4de4-93ee-970ccd51806c",
   "metadata": {},
   "outputs": [],
   "source": [
    "athletes_df.head(5)"
   ]
  },
  {
   "cell_type": "code",
   "execution_count": null,
   "id": "19a7eb12-c2a0-47ff-882b-0b5504fd165e",
   "metadata": {},
   "outputs": [],
   "source": [
    "athletes_df.tail(5)"
   ]
  },
  {
   "cell_type": "code",
   "execution_count": null,
   "id": "3b9ed7aa-cf3f-46cb-be3c-90c76319910a",
   "metadata": {},
   "outputs": [],
   "source": [
    "athletes_df.info()"
   ]
  },
  {
   "cell_type": "code",
   "execution_count": null,
   "id": "c1552f16-ef66-4ec6-9713-4452e201138f",
   "metadata": {},
   "outputs": [],
   "source": [
    "noc_df.head(66)"
   ]
  },
  {
   "cell_type": "code",
   "execution_count": null,
   "id": "2cac0050-ae65-46b9-8418-9f3a088b5345",
   "metadata": {},
   "outputs": [],
   "source": [
    "noc_df.info()"
   ]
  },
  {
   "cell_type": "code",
   "execution_count": null,
   "id": "632e1d47-5c7c-4c2e-a494-cfacd423224a",
   "metadata": {},
   "outputs": [],
   "source": [
    "noc_df.isnull().sum()"
   ]
  },
  {
   "cell_type": "code",
   "execution_count": null,
   "id": "24890c81-91d3-41c0-9b48-c2fffad6e723",
   "metadata": {},
   "outputs": [],
   "source": [
    "filt=athletes_df['Name']=='Per Knut Aaland'\n",
    "athletes_df[filt]"
   ]
  },
  {
   "cell_type": "markdown",
   "id": "cdf3f405-17bd-4a80-bf6e-814f47543ee7",
   "metadata": {
    "jp-MarkdownHeadingCollapsed": true
   },
   "source": [
    "## Database Setup"
   ]
  },
  {
   "cell_type": "code",
   "execution_count": 3,
   "id": "68e7fa1f-0bce-4f66-8a03-671777e9eb4c",
   "metadata": {},
   "outputs": [],
   "source": [
    "from sqlalchemy import create_engine ,MetaData, inspect ,Table,Column,String,Integer,Boolean, ForeignKey ,select,func,desc ,text ,delete"
   ]
  },
  {
   "cell_type": "code",
   "execution_count": 6,
   "id": "c265a819-0553-420e-80fa-ab4a64658ce4",
   "metadata": {},
   "outputs": [],
   "source": [
    "engine= create_engine('sqlite:///olympics.db')"
   ]
  },
  {
   "cell_type": "code",
   "execution_count": null,
   "id": "5a55d585-1100-48b3-831c-a5240da63abb",
   "metadata": {},
   "outputs": [],
   "source": [
    "inspector= inspect(engine)\n",
    "tables = inspector.get_table_names()\n",
    "\n",
    "print(tables)"
   ]
  },
  {
   "cell_type": "code",
   "execution_count": 7,
   "id": "6bcf147c-286e-4a6b-a9f5-9a54023d56c0",
   "metadata": {},
   "outputs": [],
   "source": [
    "connection=engine.connect()\n"
   ]
  },
  {
   "cell_type": "code",
   "execution_count": null,
   "id": "e9090f52-8fc4-4b24-a6e6-865ad47b7399",
   "metadata": {},
   "outputs": [],
   "source": [
    "metadata=MetaData()"
   ]
  },
  {
   "cell_type": "code",
   "execution_count": null,
   "id": "984b181e-2567-450e-ab91-5546551bb37b",
   "metadata": {},
   "outputs": [],
   "source": [
    "metadata.reflect(bind=engine)"
   ]
  },
  {
   "cell_type": "code",
   "execution_count": null,
   "id": "cf2203f5-9d71-4e02-bd58-94736595e4e8",
   "metadata": {},
   "outputs": [],
   "source": [
    "Athletes = Table(\n",
    "    'athletes',\n",
    "    metadata,\n",
    "    Column('Ath_ID', Integer(), primary_key=True, autoincrement=False),\n",
    "    Column('Name', String(255)),\n",
    "    Column('Sex', String(1)),\n",
    "    Column('Age', Integer()),\n",
    "    Column('Height', Integer()),\n",
    "    Column('Weight', Integer())\n",
    ")\n",
    "NOC_Countries = Table(\n",
    "    'noc_countries',\n",
    "    metadata,\n",
    "    Column('NOC', String(3), primary_key=True),\n",
    "    Column('Region', String(255)),\n",
    "    Column('Text', String(255))\n",
    ")\n",
    "\n",
    "\n",
    "Sports = Table(\n",
    "    'sports',\n",
    "    metadata,\n",
    "    Column('Sport_ID', Integer(), primary_key=True),\n",
    "    Column('Sport_Name', String(255), unique=True)\n",
    ")\n",
    "\n",
    "\n",
    "Games = Table(\n",
    "    'games',\n",
    "    metadata,\n",
    "    Column('Games_ID', Integer(), primary_key=True),\n",
    "    Column('Year', Integer()),\n",
    "    Column('Season', String(255)),\n",
    "    Column('City', String(255)),\n",
    "    Column('Game_name', String(255))\n",
    ")\n",
    "\n",
    "\n",
    "Events = Table(\n",
    "    'events',\n",
    "    metadata,\n",
    "    Column('Event_ID', Integer(), primary_key=True),\n",
    "    Column('Sport_ID', Integer(), ForeignKey('sports.Sport_ID')),\n",
    "    Column('Event_Name', String(255))\n",
    ")\n",
    "\n",
    "\n",
    "Results = Table(\n",
    "    'results',\n",
    "    metadata,\n",
    "    Column('Result_ID', Integer(), primary_key=True),\n",
    "    Column('Ath_ID', Integer(), ForeignKey('athletes.Ath_ID')),\n",
    "    Column('NOC', String(3), ForeignKey('noc_countries.NOC')),\n",
    "    Column('Game_ID', Integer(), ForeignKey('games.Games_ID')),\n",
    "    Column('Event_ID', Integer(), ForeignKey('events.Event_ID')),\n",
    "    Column('Medal', String(255))\n",
    ")\n",
    "metadata.create_all(engine)"
   ]
  },
  {
   "cell_type": "markdown",
   "id": "36ead3d7-124d-4077-8ce4-0a3ebe14ec84",
   "metadata": {
    "jp-MarkdownHeadingCollapsed": true
   },
   "source": [
    "# insert into tables "
   ]
  },
  {
   "cell_type": "markdown",
   "id": "cd796afe-1173-4687-bd13-5ae9988de21a",
   "metadata": {
    "jp-MarkdownHeadingCollapsed": true
   },
   "source": [
    "### noc_countries Table"
   ]
  },
  {
   "cell_type": "code",
   "execution_count": null,
   "id": "a56b948f-710e-4a73-b50e-b938e115258a",
   "metadata": {},
   "outputs": [],
   "source": [
    "noc_df.head()\n",
    "noc_countries = noc_df[['NOC','region','notes']]\\\n",
    "    .rename(columns={'region':'Region','notes':'Text'})\\\n",
    "    .drop_duplicates(subset=['NOC'])\n",
    "\n",
    "noc_countries.to_sql(\n",
    "    name='noc_countries',\n",
    "    con=engine,\n",
    "    if_exists='append',\n",
    "    index=False\n",
    ")"
   ]
  },
  {
   "cell_type": "code",
   "execution_count": null,
   "id": "cb56a4b9-d171-46ea-9c19-9dceafc6bc1f",
   "metadata": {},
   "outputs": [],
   "source": [
    "stmt=text('SELECT * FROM noc_countries')\n",
    "res=connection.execute(stmt).fetchmany(10)\n",
    "for result in res :\n",
    "    print (result)\n",
    "\n"
   ]
  },
  {
   "cell_type": "markdown",
   "id": "79909797-f8e4-4c78-8e80-8eedef58db45",
   "metadata": {
    "jp-MarkdownHeadingCollapsed": true
   },
   "source": [
    "### sports Table"
   ]
  },
  {
   "cell_type": "code",
   "execution_count": null,
   "id": "146200c4-6733-42a0-9878-11be4d05e662",
   "metadata": {},
   "outputs": [],
   "source": [
    "athletes_df.head()\n",
    "sports = athletes_df[['Sport']] \\\n",
    "    .rename(columns={'Sport':'Sport_Name'})\\\n",
    "    .drop_duplicates() \\\n",
    "    .reset_index(drop=True)\n",
    "sports['Sport_ID'] = sports.index + 1\n",
    "sports.to_sql(\n",
    "    name='sports',\n",
    "    con=engine,\n",
    "    if_exists='append',\n",
    "    index=False\n",
    ")\n",
    "\n"
   ]
  },
  {
   "cell_type": "code",
   "execution_count": null,
   "id": "8cc369c3-8968-435a-a3b1-0aff0202c686",
   "metadata": {},
   "outputs": [],
   "source": [
    "sports.tail(5)"
   ]
  },
  {
   "cell_type": "code",
   "execution_count": null,
   "id": "2ca5935c-51e7-489d-b9a0-77d1ea3c829c",
   "metadata": {},
   "outputs": [],
   "source": [
    "stmt=text('SELECT * FROM sports')\n",
    "res=connection.execute(stmt).fetchall()\n",
    "for result in res :\n",
    "    print (result)"
   ]
  },
  {
   "cell_type": "code",
   "execution_count": null,
   "id": "1b188d8a-d383-4b8a-82aa-e78fa4ab9bd1",
   "metadata": {},
   "outputs": [],
   "source": [
    "sports.isnull().sum()"
   ]
  },
  {
   "cell_type": "code",
   "execution_count": null,
   "id": "cae9947b-05e3-4123-8235-023195f34e54",
   "metadata": {},
   "outputs": [],
   "source": [
    "sports.tail(10)"
   ]
  },
  {
   "cell_type": "markdown",
   "id": "920dab5d-acd5-428c-a681-e90d456d31ac",
   "metadata": {
    "jp-MarkdownHeadingCollapsed": true
   },
   "source": [
    "### Games Table"
   ]
  },
  {
   "cell_type": "code",
   "execution_count": null,
   "id": "94064993-2267-4d08-a367-b0b6d418a60d",
   "metadata": {},
   "outputs": [],
   "source": [
    "athletes_df.head()\n",
    "games_df = athletes_df[['Year','Season','City','Games']] \\\n",
    "    .rename(columns={'Games' : 'Game_name'}) \\\n",
    "    .drop_duplicates() \\\n",
    "    .reset_index(drop=True)\n",
    "games_df ['Games_ID']=games_df.index+1\n",
    "\n",
    "games_df.head()"
   ]
  },
  {
   "cell_type": "code",
   "execution_count": null,
   "id": "448b47b1-0ca2-4912-a523-069aeabb50d8",
   "metadata": {},
   "outputs": [],
   "source": [
    "games_df.isnull().sum()"
   ]
  },
  {
   "cell_type": "code",
   "execution_count": null,
   "id": "54c87f55-db7d-4b9b-b7d9-2ac0822247d2",
   "metadata": {},
   "outputs": [],
   "source": [
    "games_df.count()"
   ]
  },
  {
   "cell_type": "code",
   "execution_count": null,
   "id": "ff7e0754-0b1f-4d3b-b123-5a3a5058e138",
   "metadata": {},
   "outputs": [],
   "source": [
    "games_df.to_sql(\n",
    "    name='games',\n",
    "    con=engine,\n",
    "    if_exists='replace',\n",
    "    index=False\n",
    ")"
   ]
  },
  {
   "cell_type": "code",
   "execution_count": null,
   "id": "6ddbe19b-4efe-40f3-954a-3ca46a05b013",
   "metadata": {
    "scrolled": true
   },
   "outputs": [],
   "source": [
    "stmt = text('SELECT Games_ID, Year, Season, City, Game_name FROM games ORDER BY Games_ID ASC')\n",
    "res = connection.execute(stmt).fetchall()\n",
    "for result in res:\n",
    "    print(result)\n"
   ]
  },
  {
   "cell_type": "markdown",
   "id": "d2468f7d-4708-44e5-9fb8-354d42f81e99",
   "metadata": {
    "jp-MarkdownHeadingCollapsed": true
   },
   "source": [
    "### Athletes Table"
   ]
  },
  {
   "cell_type": "code",
   "execution_count": null,
   "id": "f1a83a24-4afa-46e4-ba11-f35572386f72",
   "metadata": {},
   "outputs": [],
   "source": [
    "athletes_df.head(5)\n",
    "AthletesMini_df=athletes_df[['ID','Name','Sex','Age','Height','Weight']]\\\n",
    "    .rename(columns={'ID':'Ath_ID'})\\\n",
    "    .drop_duplicates(subset=['Ath_ID'])\n",
    "AthletesMini_df.head()\n",
    "AthletesMini_df.isnull().sum()"
   ]
  },
  {
   "cell_type": "code",
   "execution_count": null,
   "id": "eb517e96-5b89-42ce-a548-120ddb08c25e",
   "metadata": {},
   "outputs": [],
   "source": [
    "# fixing the null values of height , age , Weight\n",
    "# Convert to numeric first\n",
    "AthletesMini_df['Age'] = pd.to_numeric(AthletesMini_df['Age'], errors='coerce')\n",
    "AthletesMini_df['Height'] = pd.to_numeric(AthletesMini_df['Height'], errors='coerce')\n",
    "AthletesMini_df['Weight'] = pd.to_numeric(AthletesMini_df['Weight'], errors='coerce')\n",
    "\n",
    "AthletesMini_df['Age'] = AthletesMini_df['Age'].fillna(AthletesMini_df['Age'].median())\n",
    "AthletesMini_df['Height'] = AthletesMini_df['Height'].fillna(AthletesMini_df['Height'].median())\n",
    "AthletesMini_df['Weight'] = AthletesMini_df['Weight'].fillna(AthletesMini_df['Weight'].median())"
   ]
  },
  {
   "cell_type": "code",
   "execution_count": null,
   "id": "89c15f09-4f13-4efd-9f19-fa4247516bdb",
   "metadata": {},
   "outputs": [],
   "source": [
    "AthletesMini_df.isnull().sum()"
   ]
  },
  {
   "cell_type": "code",
   "execution_count": null,
   "id": "ec7c9231-1578-406e-ba8c-fff3b6d65273",
   "metadata": {},
   "outputs": [],
   "source": [
    "AthletesMini_df.head()"
   ]
  },
  {
   "cell_type": "code",
   "execution_count": null,
   "id": "5a677036-314e-4cc4-a24b-1736e9cf661f",
   "metadata": {},
   "outputs": [],
   "source": [
    "AthletesMini_df.to_sql(\n",
    "    name='athletes',\n",
    "    con=engine,\n",
    "    if_exists='append',\n",
    "    index=False\n",
    ")"
   ]
  },
  {
   "cell_type": "code",
   "execution_count": null,
   "id": "19a7f078-acb5-465d-a6bf-676ea6deda7e",
   "metadata": {},
   "outputs": [],
   "source": [
    "stmt=text('SELECT * FROM athletes')\n",
    "res=connection.execute(stmt).fetchmany(100)\n",
    "for result in res :\n",
    "    print (result)\n"
   ]
  },
  {
   "cell_type": "code",
   "execution_count": null,
   "id": "f954a87a-f48b-4bbb-847a-c456e8a3e000",
   "metadata": {},
   "outputs": [],
   "source": [
    "stmt=text('DROP TABLE IF EXISTS athlete')\n",
    "res=connection.execute(stmt)\n"
   ]
  },
  {
   "cell_type": "markdown",
   "id": "030276f6-ab96-4e9d-b5d7-582ec63343e5",
   "metadata": {
    "jp-MarkdownHeadingCollapsed": true
   },
   "source": [
    "### events Table"
   ]
  },
  {
   "cell_type": "code",
   "execution_count": null,
   "id": "2f4ae32c-fcff-443a-8b3a-8fe9fc1176c7",
   "metadata": {},
   "outputs": [],
   "source": [
    "events_df = (\n",
    "    athletes_df[['Sport', 'Event']]\n",
    "    .drop_duplicates()\n",
    "    .merge(sports, left_on='Sport', right_on='Sport_Name')\n",
    "    .rename(columns={'Event': 'Event_Name'})\n",
    "    [['Event_Name', 'Sport_ID']]  \n",
    "    .reset_index(drop=True)\n",
    ")\n",
    "\n",
    "\n",
    "events_df['Event_ID'] = events_df.index + 1\n",
    "\n",
    "\n",
    "events_df = events_df[['Event_ID', 'Sport_ID', 'Event_Name']]\n",
    "events_df.tail(5)"
   ]
  },
  {
   "cell_type": "code",
   "execution_count": null,
   "id": "25fb21ce-3944-41b5-acc0-cd5fed1782ae",
   "metadata": {},
   "outputs": [],
   "source": [
    "events_df.tail(5)"
   ]
  },
  {
   "cell_type": "code",
   "execution_count": null,
   "id": "b7204420-dde1-4300-83fe-2fa4b3e55bfc",
   "metadata": {},
   "outputs": [],
   "source": [
    "events_df.head(5)"
   ]
  },
  {
   "cell_type": "code",
   "execution_count": null,
   "id": "50ccc883-7fdb-4db4-9894-50b2d49316f2",
   "metadata": {},
   "outputs": [],
   "source": [
    "events_df.isnull().sum()"
   ]
  },
  {
   "cell_type": "code",
   "execution_count": null,
   "id": "fd44d31c-8a34-4d18-a6b5-f6cff880d39f",
   "metadata": {},
   "outputs": [],
   "source": [
    "events_df.to_sql(\n",
    "    name='events',\n",
    "    con=engine,\n",
    "    if_exists='append',\n",
    "    index=False\n",
    ")\n"
   ]
  },
  {
   "cell_type": "markdown",
   "id": "98a4bc54-54ae-43ce-b279-fb8155050d58",
   "metadata": {
    "jp-MarkdownHeadingCollapsed": true
   },
   "source": [
    "### results Table"
   ]
  },
  {
   "cell_type": "code",
   "execution_count": null,
   "id": "c826d94e-7389-40d6-ba65-4fa7b7de42c0",
   "metadata": {},
   "outputs": [],
   "source": []
  },
  {
   "cell_type": "code",
   "execution_count": null,
   "id": "07e8ba8f-decf-4114-8441-471bc9a33539",
   "metadata": {},
   "outputs": [],
   "source": [
    "results_df = (\n",
    "    athletes_df\n",
    "    .merge(\n",
    "        games_df,\n",
    "        on=['Year', 'Season', 'City'],\n",
    "        how='left'\n",
    "    )\n",
    "    .merge(\n",
    "        events_df,\n",
    "        left_on=['Event'],\n",
    "        right_on=['Event_Name'],\n",
    "        how='left'\n",
    "    )\n",
    "    [['ID', 'NOC', 'Games_ID', 'Event_ID', 'Medal']]\n",
    "    .rename(columns={'ID': 'Ath_ID' ,'Games_ID': 'Game_ID'})\n",
    "    .drop_duplicates()\n",
    "    .reset_index(drop=True)\n",
    ")\n",
    "\n",
    "\n",
    "results_df['Result_ID'] = results_df.index + 1\n",
    "\n",
    "\n",
    "results_df = results_df[['Result_ID', 'Ath_ID', 'NOC', 'Game_ID', 'Event_ID', 'Medal']]\n"
   ]
  },
  {
   "cell_type": "code",
   "execution_count": null,
   "id": "ac5a86ed-5288-4833-afed-de6d6f04e10a",
   "metadata": {},
   "outputs": [],
   "source": [
    "results_df.head(5)"
   ]
  },
  {
   "cell_type": "code",
   "execution_count": null,
   "id": "ab28a813-3917-4c39-8a5a-ddeea930c3b5",
   "metadata": {},
   "outputs": [],
   "source": [
    "results_df.tail(5)"
   ]
  },
  {
   "cell_type": "code",
   "execution_count": null,
   "id": "6627d14c-4905-4d05-bd0e-c04dfca41b24",
   "metadata": {},
   "outputs": [],
   "source": [
    "results_df.isnull().sum()"
   ]
  },
  {
   "cell_type": "code",
   "execution_count": null,
   "id": "4b13caa4-ba6d-4237-9c8f-863802378c8a",
   "metadata": {},
   "outputs": [],
   "source": [
    "print(\"Columns in results_df:\", results_df.columns)"
   ]
  },
  {
   "cell_type": "code",
   "execution_count": null,
   "id": "2babd55e-f2c2-43b4-b773-0db0951c444c",
   "metadata": {},
   "outputs": [],
   "source": [
    "results_df.to_sql(\n",
    "    name='results',\n",
    "    con=engine,\n",
    "    if_exists='replace',\n",
    "    index=False,\n",
    ")"
   ]
  },
  {
   "cell_type": "markdown",
   "id": "2fab845e-ac24-46df-bf70-40d0d3155e79",
   "metadata": {},
   "source": [
    "# checker"
   ]
  },
  {
   "cell_type": "code",
   "execution_count": 90,
   "id": "7c5ba471-6f79-444c-a647-11ab7ea9c123",
   "metadata": {},
   "outputs": [
    {
     "name": "stdout",
     "output_type": "stream",
     "text": [
      "(1, 1992, 'Summer', 'Barcelona', '1992 Summer')\n",
      "(2, 2012, 'Summer', 'London', '2012 Summer')\n",
      "(3, 1920, 'Summer', 'Antwerpen', '1920 Summer')\n",
      "(4, 1900, 'Summer', 'Paris', '1900 Summer')\n",
      "(5, 1988, 'Winter', 'Calgary', '1988 Winter')\n",
      "(6, 1992, 'Winter', 'Albertville', '1992 Winter')\n",
      "(7, 1994, 'Winter', 'Lillehammer', '1994 Winter')\n",
      "(8, 1932, 'Summer', 'Los Angeles', '1932 Summer')\n",
      "(9, 2002, 'Winter', 'Salt Lake City', '2002 Winter')\n",
      "(10, 1952, 'Summer', 'Helsinki', '1952 Summer')\n"
     ]
    }
   ],
   "source": [
    "stmt = text('SELECT Games_ID, Year, Season, City, Game_name FROM games ORDER BY Games_ID ASC')\n",
    "res = connection.execute(stmt).fetchmany(10)\n",
    "for result in res:\n",
    "    print(result)\n"
   ]
  },
  {
   "cell_type": "code",
   "execution_count": null,
   "id": "200b2cb3-3435-4caa-be1f-75ebab6111b5",
   "metadata": {},
   "outputs": [],
   "source": [
    "stmt=text('SELECT * FROM noc_countries')\n",
    "res=connection.execute(stmt).fetchmany(10)\n",
    "for result in res :\n",
    "    print (result)\n"
   ]
  },
  {
   "cell_type": "code",
   "execution_count": null,
   "id": "7a6f3d93-b227-4a27-8186-14402af48a64",
   "metadata": {},
   "outputs": [],
   "source": [
    "stmt=text('SELECT * FROM athletes')\n",
    "res=connection.execute(stmt).fetchmany(10)\n",
    "for result in res :\n",
    "    print (result)\n"
   ]
  },
  {
   "cell_type": "code",
   "execution_count": null,
   "id": "1de99445-a969-42f4-a852-1e27b280f297",
   "metadata": {},
   "outputs": [],
   "source": [
    "stmt=text('SELECT * FROM events')\n",
    "res=connection.execute(stmt).fetchmany(10)\n",
    "for result in res :\n",
    "    print (result)\n"
   ]
  },
  {
   "cell_type": "code",
   "execution_count": null,
   "id": "8a3ae83e-b4fd-4e82-8ffc-d345931e3b31",
   "metadata": {},
   "outputs": [],
   "source": [
    "stmt=text('SELECT * FROM sports')\n",
    "res=connection.execute(stmt).fetchmany(10)\n",
    "for result in res :\n",
    "    print (result)\n"
   ]
  },
  {
   "cell_type": "code",
   "execution_count": null,
   "id": "e025852e-db8e-4d2c-b7ac-3e02bb88a039",
   "metadata": {},
   "outputs": [],
   "source": [
    "stmt=text('SELECT * FROM results')\n",
    "res=connection.execute(stmt).fetchmany(10)\n",
    "for result in res :\n",
    "    print (result)\n"
   ]
  },
  {
   "cell_type": "markdown",
   "id": "2374e255-1b6d-49a8-bb22-1dac50fded50",
   "metadata": {},
   "source": [
    "# Analysis"
   ]
  },
  {
   "cell_type": "markdown",
   "id": "f86e3d99-7770-4ecf-84d0-2afd4cfee2d5",
   "metadata": {},
   "source": [
    "## Which country won the most gold medals in the Winter Olympics?"
   ]
  },
  {
   "cell_type": "code",
   "execution_count": 91,
   "id": "b05cf9c3-76f0-4d12-aca1-e340f6520d63",
   "metadata": {},
   "outputs": [
    {
     "name": "stdout",
     "output_type": "stream",
     "text": [
      "('Russia', 379)\n",
      "('Canada', 305)\n",
      "('Germany', 226)\n",
      "('USA', 166)\n",
      "('Norway', 151)\n"
     ]
    }
   ],
   "source": [
    "query1 = text(\"\"\"\n",
    "SELECT c.Region AS Country, COUNT(r.Medal) AS GoldMedals\n",
    "FROM results r\n",
    "JOIN noc_countries c ON r.NOC = c.NOC\n",
    "JOIN games g ON r.Game_ID = g.Games_ID\n",
    "WHERE r.Medal = 'Gold' AND g.Season = 'Winter'\n",
    "GROUP BY c.Region\n",
    "ORDER BY GoldMedals DESC\n",
    "LIMIT 5;\n",
    "\"\"\")\n",
    "res = connection.execute(query1).fetchall()\n",
    "for result in res:\n",
    "    print(result)"
   ]
  },
  {
   "cell_type": "code",
   "execution_count": 34,
   "id": "704c4cc3-1d44-48c2-9c76-2b03672e0172",
   "metadata": {},
   "outputs": [
    {
     "name": "stdout",
     "output_type": "stream",
     "text": [
      "   Country  GoldMedals\n",
      "0   Russia         379\n",
      "1   Canada         305\n",
      "2  Germany         226\n",
      "3      USA         166\n",
      "4   Norway         151\n"
     ]
    }
   ],
   "source": [
    "df_query1 = pd.read_sql(query1, con=engine)\n",
    "print(df_query1)"
   ]
  },
  {
   "cell_type": "code",
   "execution_count": 36,
   "id": "8c9cedc8-561b-4439-8709-83bf7b687ae7",
   "metadata": {},
   "outputs": [
    {
     "data": {
      "image/png": "[encoded data removed]",
      "text/plain": [
       "<Figure size 640x480 with 1 Axes>"
      ]
     },
     "metadata": {},
     "output_type": "display_data"
    }
   ],
   "source": [
    "plt.bar(df_query1['Country'],df_query1['GoldMedals'],color='gold')\n",
    "plt.title('Most Gold Medals in Winter Olympics',fontsize=14)\n",
    "plt.xlabel('Country',fontsize=12)\n",
    "plt.ylabel('Number of Gold Medals',fontsize=12)\n",
    "plt.grid=True\n",
    "plt.show()\n"
   ]
  },
  {
   "cell_type": "markdown",
   "id": "9c8c8220-8f2a-47c6-ba55-f2d8c7d74544",
   "metadata": {
    "jp-MarkdownHeadingCollapsed": true
   },
   "source": [
    "## What is the distribution of athlete ages in different sports"
   ]
  },
  {
   "cell_type": "code",
   "execution_count": 39,
   "id": "626adb25-9d53-4fda-bf0c-7dd4a32dd086",
   "metadata": {},
   "outputs": [
    {
     "name": "stdout",
     "output_type": "stream",
     "text": [
      "('Athletics', 23.5, 12, 48)\n",
      "('Gymnastics', 21.4, 10, 49)\n",
      "('Swimming', 19.1, 11, 41)\n",
      "('Shooting', 29.7, 15, 68)\n",
      "('Cycling', 23.3, 14, 43)\n",
      "('Fencing', 25.5, 14, 63)\n",
      "('Rowing', 23.7, 11, 60)\n",
      "('Cross Country Skiing', 23.5, 15, 47)\n",
      "('Alpine Skiing', 21.3, 14, 45)\n",
      "('Wrestling', 24.1, 14, 50)\n"
     ]
    }
   ],
   "source": [
    "query2 = text(\"\"\"\n",
    "SELECT s.Sport_Name AS Sport, \n",
    "       ROUND(AVG(a.Age),1) AS AvgAge,\n",
    "       MIN(a.Age) AS MinAge,\n",
    "       MAX(a.Age) AS MaxAge\n",
    "FROM athletes a\n",
    "JOIN results r ON a.Ath_ID = r.Ath_ID\n",
    "JOIN events e ON r.Event_ID = e.Event_ID\n",
    "JOIN sports s ON e.Sport_ID = s.Sport_ID\n",
    "GROUP BY s.Sport_Name\n",
    "ORDER BY COUNT(*) DESC\n",
    "LIMIT 10;\n",
    "\"\"\")\n",
    "res = connection.execute(query2).fetchall()\n",
    "for result in res:\n",
    "    print(result)"
   ]
  },
  {
   "cell_type": "code",
   "execution_count": 40,
   "id": "f22237be-c977-4f44-8770-ded3ab8123cc",
   "metadata": {},
   "outputs": [
    {
     "name": "stdout",
     "output_type": "stream",
     "text": [
      "                  Sport  AvgAge  MinAge  MaxAge\n",
      "0             Athletics    23.5      12      48\n",
      "1            Gymnastics    21.4      10      49\n",
      "2              Swimming    19.1      11      41\n",
      "3              Shooting    29.7      15      68\n",
      "4               Cycling    23.3      14      43\n",
      "5               Fencing    25.5      14      63\n",
      "6                Rowing    23.7      11      60\n",
      "7  Cross Country Skiing    23.5      15      47\n",
      "8         Alpine Skiing    21.3      14      45\n",
      "9             Wrestling    24.1      14      50\n"
     ]
    }
   ],
   "source": [
    "df_query2 = pd.read_sql(query2, con=engine)\n",
    "print(df_query2)"
   ]
  },
  {
   "cell_type": "code",
   "execution_count": 48,
   "id": "59952ddf-63fc-458e-9847-803c8caeef86",
   "metadata": {},
   "outputs": [
    {
     "data": {
      "image/png": "[encoded data removed]",
      "text/plain": [
       "<Figure size 1000x600 with 1 Axes>"
      ]
     },
     "metadata": {},
     "output_type": "display_data"
    }
   ],
   "source": [
    "plt.figure(figsize=(10, 6))\n",
    "plt.bar(df_query2['Sport'], df_query2['AvgAge'], color='blue')\n",
    "plt.title('Average Age of Athletes in Different Sports')\n",
    "plt.xlabel('Sport',fontsize=9)\n",
    "plt.ylabel('Average Age')\n",
    "plt.xticks(rotation=30)\n",
    "plt.show()"
   ]
  },
  {
   "cell_type": "markdown",
   "id": "bad68064-2653-4d61-a929-e898b1219a98",
   "metadata": {
    "jp-MarkdownHeadingCollapsed": true
   },
   "source": [
    "## List the top 10 athletes with the most total medals?"
   ]
  },
  {
   "cell_type": "code",
   "execution_count": 49,
   "id": "8cb2427c-a285-47a4-aeb8-c5b30b6cb38a",
   "metadata": {},
   "outputs": [
    {
     "name": "stdout",
     "output_type": "stream",
     "text": [
      "('Michael Fred Phelps, II', 28)\n",
      "('Larysa Semenivna Latynina (Diriy-)', 18)\n",
      "('Nikolay Yefimovich Andrianov', 15)\n",
      "('Takashi Ono', 13)\n",
      "('Ole Einar Bjrndalen', 13)\n",
      "('Edoardo Mangiarotti', 13)\n",
      "('Borys Anfiyanovych Shakhlin', 13)\n",
      "('Sawao Kato', 12)\n",
      "('Ryan Steven Lochte', 12)\n",
      "('Paavo Johannes Nurmi', 12)\n"
     ]
    }
   ],
   "source": [
    "query3=text(\"\"\"\n",
    "SELECT \n",
    "    a.Name,\n",
    "    COUNT(*) AS Total_Medals\n",
    "FROM results r\n",
    "JOIN athletes a ON r.Ath_ID = a.Ath_ID\n",
    "WHERE r.Medal IS NOT NULL\n",
    "GROUP BY a.Name\n",
    "ORDER BY Total_Medals DESC\n",
    "LIMIT 10;\n",
    "\"\"\")\n",
    "res = connection.execute(query3).fetchall()\n",
    "for result in res:\n",
    "    print(result)"
   ]
  },
  {
   "cell_type": "code",
   "execution_count": 50,
   "id": "0601fb33-d398-4203-94a3-c3789a3cbcb9",
   "metadata": {},
   "outputs": [
    {
     "name": "stdout",
     "output_type": "stream",
     "text": [
      "                                 Name  Total_Medals\n",
      "0             Michael Fred Phelps, II            28\n",
      "1  Larysa Semenivna Latynina (Diriy-)            18\n",
      "2        Nikolay Yefimovich Andrianov            15\n",
      "3                         Takashi Ono            13\n",
      "4                 Ole Einar Bjrndalen            13\n",
      "5                 Edoardo Mangiarotti            13\n",
      "6         Borys Anfiyanovych Shakhlin            13\n",
      "7                          Sawao Kato            12\n",
      "8                  Ryan Steven Lochte            12\n",
      "9                Paavo Johannes Nurmi            12\n"
     ]
    }
   ],
   "source": [
    "df_query3 = pd.read_sql(query3, con=engine)\n",
    "print(df_query3)"
   ]
  },
  {
   "cell_type": "code",
   "execution_count": 73,
   "id": "00f3b587-03d0-4f8e-87e2-13d31c5fbb8c",
   "metadata": {},
   "outputs": [
    {
     "data": {
      "image/png": "[encoded data removed]",
      "text/plain": [
       "<Figure size 1900x600 with 1 Axes>"
      ]
     },
     "metadata": {},
     "output_type": "display_data"
    }
   ],
   "source": [
    "plt.figure(figsize=(19, 6))\n",
    "plt.bar(df_query3['Name'], df_query3['Total_Medals'], color='green')\n",
    "plt.title('Top 10 Athletes with Most Medals')\n",
    "plt.xlabel('Athlete',fontsize=10)\n",
    "plt.ylabel('Total Medals')\n",
    "plt.xticks(rotation=40,fontsize=9)\n",
    "plt.show()"
   ]
  },
  {
   "cell_type": "markdown",
   "id": "7b39eb7a-cc17-4b52-b0bd-e6eb0874ed2b",
   "metadata": {
    "jp-MarkdownHeadingCollapsed": true
   },
   "source": [
    "## Which cities have hosted both the Summer and Winter Olympics?"
   ]
  },
  {
   "cell_type": "code",
   "execution_count": null,
   "id": "5a8762b8-c559-45ee-a4d4-f87fe6ec005f",
   "metadata": {},
   "outputs": [],
   "source": [
    "query4=text(\"\"\"\n",
    "SELECT City\n",
    "FROM GAMES\n",
    "GROUP BY City\n",
    "HAVING COUNT(DISTINCT Season) = 2;\n",
    "\n",
    "\"\"\")\n",
    "\n",
    "\n",
    "res = connection.execute(query4).fetchall()\n",
    "for result in res:\n",
    "    print(result)           #  the answer is no country have done that"
   ]
  },
  {
   "cell_type": "markdown",
   "id": "df349119-1469-46fc-be1d-6126ad220733",
   "metadata": {
    "jp-MarkdownHeadingCollapsed": true
   },
   "source": [
    "## Analyze the trend of athlete participation over the years"
   ]
  },
  {
   "cell_type": "code",
   "execution_count": 12,
   "id": "15e6566d-3f5e-4646-b6e1-51a83cede4b5",
   "metadata": {},
   "outputs": [
    {
     "name": "stdout",
     "output_type": "stream",
     "text": [
      "(1896, 176)\n",
      "(1900, 1224)\n",
      "(1904, 650)\n",
      "(1906, 841)\n",
      "(1908, 2024)\n",
      "(1912, 2409)\n",
      "(1920, 2676)\n",
      "(1924, 3565)\n",
      "(1928, 3703)\n",
      "(1932, 2174)\n",
      "(1936, 5142)\n",
      "(1948, 5068)\n",
      "(1952, 5622)\n",
      "(1956, 4167)\n",
      "(1960, 6017)\n",
      "(1964, 6230)\n",
      "(1968, 6717)\n",
      "(1972, 8122)\n",
      "(1976, 7200)\n",
      "(1980, 6330)\n",
      "(1984, 8067)\n",
      "(1988, 9873)\n",
      "(1992, 11183)\n",
      "(1994, 1738)\n",
      "(1996, 10339)\n",
      "(1998, 2179)\n",
      "(2000, 10647)\n",
      "(2002, 2399)\n",
      "(2004, 10557)\n",
      "(2006, 2494)\n",
      "(2008, 10899)\n",
      "(2010, 2536)\n",
      "(2012, 10517)\n",
      "(2014, 2745)\n",
      "(2016, 11179)\n"
     ]
    }
   ],
   "source": [
    "query5=text(\"\"\"\n",
    "SELECT \n",
    "    g.Year,\n",
    "    COUNT(DISTINCT r.Ath_ID) AS Athlete_Count\n",
    "FROM results r\n",
    "JOIN games g ON r.Game_ID = g.Games_ID\n",
    "GROUP BY g.Year\n",
    "ORDER BY g.Year;\n",
    "\n",
    "\"\"\")\n",
    "\n",
    "\n",
    "res = connection.execute(query5).fetchall()\n",
    "for result in res:\n",
    "    print(result)\n"
   ]
  },
  {
   "cell_type": "code",
   "execution_count": 13,
   "id": "7ea6e674-e691-4cc9-8a12-f66af84e5aae",
   "metadata": {},
   "outputs": [
    {
     "name": "stdout",
     "output_type": "stream",
     "text": [
      "    Year  Athlete_Count\n",
      "0   1896            176\n",
      "1   1900           1224\n",
      "2   1904            650\n",
      "3   1906            841\n",
      "4   1908           2024\n",
      "5   1912           2409\n",
      "6   1920           2676\n",
      "7   1924           3565\n",
      "8   1928           3703\n",
      "9   1932           2174\n",
      "10  1936           5142\n",
      "11  1948           5068\n",
      "12  1952           5622\n",
      "13  1956           4167\n",
      "14  1960           6017\n",
      "15  1964           6230\n",
      "16  1968           6717\n",
      "17  1972           8122\n",
      "18  1976           7200\n",
      "19  1980           6330\n",
      "20  1984           8067\n",
      "21  1988           9873\n",
      "22  1992          11183\n",
      "23  1994           1738\n",
      "24  1996          10339\n",
      "25  1998           2179\n",
      "26  2000          10647\n",
      "27  2002           2399\n",
      "28  2004          10557\n",
      "29  2006           2494\n",
      "30  2008          10899\n",
      "31  2010           2536\n",
      "32  2012          10517\n",
      "33  2014           2745\n",
      "34  2016          11179\n"
     ]
    }
   ],
   "source": [
    "df_query5 = pd.read_sql(query5, con=engine)\n",
    "print(df_query5)"
   ]
  },
  {
   "cell_type": "code",
   "execution_count": 28,
   "id": "10995c45-9c68-4da4-ae02-01171882d8eb",
   "metadata": {},
   "outputs": [
    {
     "data": {
      "image/png": "[encoded data removed]",
      "text/plain": [
       "<Figure size 640x480 with 1 Axes>"
      ]
     },
     "metadata": {},
     "output_type": "display_data"
    }
   ],
   "source": [
    "plt.plot(df_query5['Year'], df_query5['Athlete_Count'],color='red', marker='o', linestyle='-')\n",
    "plt.title('Number of Athletes Over the Years',fontsize=14)\n",
    "plt.xlabel('Year',fontsize=12)\n",
    "plt.ylabel('Number of Athletes',fontsize=12)\n",
    "plt.grid(True)\n",
    "plt.xticks(rotation=45)\n",
    "plt.show()"
   ]
  }
 ],
 "metadata": {
  "kernelspec": {
   "display_name": "Python 3 (ipykernel)",
   "language": "python",
   "name": "python3"
  },
  "language_info": {
   "codemirror_mode": {
    "name": "ipython",
    "version": 3
   },
   "file_extension": ".py",
   "mimetype": "text/x-python",
   "name": "python",
   "nbconvert_exporter": "python",
   "pygments_lexer": "ipython3",
   "version": "3.13.3"
  }
 },
 "nbformat": 4,
 "nbformat_minor": 5
}
